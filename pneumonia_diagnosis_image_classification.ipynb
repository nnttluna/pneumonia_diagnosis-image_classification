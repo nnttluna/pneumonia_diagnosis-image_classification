{
  "nbformat": 4,
  "nbformat_minor": 0,
  "metadata": {
    "colab": {
      "provenance": [],
      "mount_file_id": "1nR2T9lw0vEbHr5rtdvqWHhCm5kWPCzAK",
      "authorship_tag": "ABX9TyNfWSG6+7lSjd6FkImWmwDf",
      "include_colab_link": true
    },
    "kernelspec": {
      "name": "python3",
      "display_name": "Python 3"
    },
    "language_info": {
      "name": "python"
    }
  },
  "cells": [
    {
      "cell_type": "markdown",
      "metadata": {
        "id": "view-in-github",
        "colab_type": "text"
      },
      "source": [
        "<a href=\"https://colab.research.google.com/github/nnttluna/pneumonia_diagnosis-image_classification/blob/main/pneumonia_diagnosis_image_classification.ipynb\" target=\"_parent\"><img src=\"https://colab.research.google.com/assets/colab-badge.svg\" alt=\"Open In Colab\"/></a>"
      ]
    },
    {
      "cell_type": "code",
      "execution_count": 23,
      "metadata": {
        "id": "XIownNfk_KSY"
      },
      "outputs": [],
      "source": [
        "# image importing resources\n",
        "import cv2\n",
        "import glob\n",
        "from PIL import Image\n",
        "%matplotlib notebook\n",
        "import matplotlib.pyplot as plt\n",
        "import numpy as np\n",
        "import time\n",
        "# building a neural network model\n",
        "import tensorflow as tf\n",
        "from keras.layers import Activation, Dense\n",
        "from keras.models import Sequential\n",
        "#modules for metrics\n",
        "from keras import optimizers\n",
        "from keras import metrics\n",
        "from sklearn.metrics import r2_score\n",
        "from sklearn.metrics import mean_squared_error\n",
        "from sklearn.model_selection import train_test_split\n"
      ]
    },
    {
      "cell_type": "code",
      "source": [
        "#importing the Normal chest xray folder\n",
        "cv_img = [] # array to store all the images\n",
        "y_Vals = [] # array to store their associated label\n",
        "for img in glob.glob(\"/content/drive/MyDrive/Portfolio/x-ray-pneumonia-image/train/NORMAL/*.jpeg\"):\n",
        "  normal = cv2.imread(img)\n",
        "  resized = cv2.resize(normal,(200,200),interpolation = cv2.INTER_AREA) # resizing image\n",
        "  cv_img.append(resized) #add normal images into the general image array\n",
        "  y_Vals.append(\"N\")"
      ],
      "metadata": {
        "id": "BLQvOZP8_xfn"
      },
      "execution_count": 24,
      "outputs": []
    },
    {
      "cell_type": "code",
      "source": [
        "#importing the Pneumonia chest xray folder\n",
        "for img in glob.glob(\"/content/drive/MyDrive/Portfolio/x-ray-pneumonia-image/train/PNEUMONIA/*.jpeg\"):\n",
        "  pneumonia = cv2.imread(img)\n",
        "  resized2 = cv2.resize(pneumonia,(200,200),interpolation = cv2.INTER_AREA)# resizing image\n",
        "  cv_img.append(resized2) #add pneumonia images into the general image array\n",
        "  y_Vals.append(\"P\")"
      ],
      "metadata": {
        "id": "r8hOKr-uB2-K"
      },
      "execution_count": 25,
      "outputs": []
    },
    {
      "cell_type": "code",
      "source": [
        "cv_img = np.array(cv_img) # converting image list to an array\n",
        "cv_img[1].shape"
      ],
      "metadata": {
        "colab": {
          "base_uri": "https://localhost:8080/"
        },
        "id": "cyDNkanVCFUD",
        "outputId": "95a6a4d1-5245-4139-e8a6-10598d50f227"
      },
      "execution_count": 26,
      "outputs": [
        {
          "output_type": "execute_result",
          "data": {
            "text/plain": [
              "(200, 200, 3)"
            ]
          },
          "metadata": {},
          "execution_count": 26
        }
      ]
    },
    {
      "cell_type": "code",
      "source": [
        "# splitting data, using 80% for training\n",
        "X_train, X_test, y_train, y_test = train_test_split(cv_img, y_Vals, random_state=0, train_size=0.8)"
      ],
      "metadata": {
        "id": "m6fIGX5BCJJ4"
      },
      "execution_count": 27,
      "outputs": []
    },
    {
      "cell_type": "code",
      "source": [
        "import numpy as np\n",
        "from tensorflow import keras\n",
        "from tensorflow.keras import layers\n",
        "import pandas as pd\n",
        "# Model / data parameters\n",
        "num_classes = 2 # normal or pneumonia\n",
        "input_shape = (200, 200, 3) # size of each image\n",
        "# Scale images to the [0 - 1] range\n",
        "X_train = X_train.astype(\"float32\") / 255\n",
        "X_test = X_test.astype(\"float32\") / 255\n",
        "print(\"x_train shape:\", X_train.shape)\n",
        "print(X_train.shape[0], \"train samples\")\n",
        "print(X_test.shape[0], \"test samples\")\n",
        "# convert class vectors to binary class matrices\n",
        "# Converting every 'N' and 'P ' to [01] = N or [10] = P\n",
        "numbers, labels = pd.factorize(y_train)\n",
        "y_train = tf.keras.utils.to_categorical(numbers, num_classes=2)\n",
        "numbers, labels = pd.factorize(y_test)\n",
        "y_test = tf.keras.utils.to_categorical(numbers, num_classes=2)"
      ],
      "metadata": {
        "colab": {
          "base_uri": "https://localhost:8080/"
        },
        "id": "B23nX7PbCNSD",
        "outputId": "ef0cd75c-d4c9-4891-d741-933a52584a65"
      },
      "execution_count": 28,
      "outputs": [
        {
          "output_type": "stream",
          "name": "stdout",
          "text": [
            "x_train shape: (3764, 200, 200, 3)\n",
            "3764 train samples\n",
            "941 test samples\n"
          ]
        }
      ]
    },
    {
      "cell_type": "code",
      "source": [
        "# creating the CNN Model\n",
        "model = keras.Sequential(\n",
        "  [\n",
        "    keras.Input(shape=input_shape),\n",
        "    layers.Conv2D(32, kernel_size=(3, 3), activation=\"relu\"),\n",
        "    layers.MaxPooling2D(pool_size=(2, 2)),\n",
        "    layers.Conv2D(64, kernel_size=(3, 3), activation=\"relu\"),\n",
        "    layers.MaxPooling2D(pool_size=(2, 2)),\n",
        "    layers.Flatten(),\n",
        "    layers.Dropout(0.5),\n",
        "    layers.Dense(num_classes, activation=\"softmax\"),\n",
        "  ]\n",
        ")"
      ],
      "metadata": {
        "id": "YuFWqLehCS9b"
      },
      "execution_count": 29,
      "outputs": []
    },
    {
      "cell_type": "code",
      "source": [
        "batch_size = 64\n",
        "epochs = 8\n",
        "model.compile(loss=\"categorical_crossentropy\", optimizer=\"adam\", metrics=[\"accuracy\"])\n",
        "model.fit(X_train, y_train, batch_size=batch_size, epochs=epochs, validation_split=0.1, verbose=0)"
      ],
      "metadata": {
        "colab": {
          "base_uri": "https://localhost:8080/"
        },
        "id": "6mIhtut6Cb5q",
        "outputId": "307a595f-7ab0-4335-9bed-598e4e6c0178"
      },
      "execution_count": 30,
      "outputs": [
        {
          "output_type": "execute_result",
          "data": {
            "text/plain": [
              "<keras.src.callbacks.History at 0x7a5025614190>"
            ]
          },
          "metadata": {},
          "execution_count": 30
        }
      ]
    },
    {
      "cell_type": "code",
      "source": [
        "score = model.evaluate(X_test, y_test, verbose=0)\n",
        "print(\"Test loss:\", score[0])\n",
        "print(\"Test accuracy:\", score[1])"
      ],
      "metadata": {
        "colab": {
          "base_uri": "https://localhost:8080/"
        },
        "id": "KPpuVNyKCv61",
        "outputId": "4ab2978d-3a6c-4f8d-d8d1-dcc84f30fafb"
      },
      "execution_count": 31,
      "outputs": [
        {
          "output_type": "stream",
          "name": "stdout",
          "text": [
            "Test loss: 0.11627820879220963\n",
            "Test accuracy: 0.9617428183555603\n"
          ]
        }
      ]
    },
    {
      "cell_type": "code",
      "source": [
        "from sklearn.metrics import confusion_matrix\n",
        "import seaborn as sns\n",
        "%matplotlib inline\n",
        "y_pred = model.predict(X_test)\n",
        "y_pred_c = np.argmax(y_pred, axis=1)\n",
        "y_test_c = np.argmax(y_test, axis=1)\n",
        "matrix_confusion = confusion_matrix(y_test_c, y_pred_c)\n",
        "sns.heatmap(matrix_confusion, square=True, annot=True, cmap='Blues', fmt='d', cbar=False )\n",
        "plt.show()"
      ],
      "metadata": {
        "colab": {
          "base_uri": "https://localhost:8080/",
          "height": 447
        },
        "id": "_faPKGFFCx64",
        "outputId": "dab8ae34-3e89-46f5-e15c-644a386e285c"
      },
      "execution_count": 32,
      "outputs": [
        {
          "output_type": "stream",
          "name": "stdout",
          "text": [
            "30/30 [==============================] - 16s 514ms/step\n"
          ]
        },
        {
          "output_type": "display_data",
          "data": {
            "text/plain": [
              "<Figure size 640x480 with 1 Axes>"
            ],
            "image/png": "[encoded data removed]"
          },
          "metadata": {}
        }
      ]
    }
  ]
}